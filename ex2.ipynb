{
 "cells": [
  {
   "cell_type": "code",
   "execution_count": 5,
   "id": "de8d64bb-ebe2-429e-a033-1b968d3972c5",
   "metadata": {},
   "outputs": [
    {
     "name": "stdout",
     "output_type": "stream",
     "text": [
      "Requirement already satisfied: numpy in /home/botev/my_project_dir/my_project_env/lib/python3.12/site-packages (2.2.3)\n",
      "Requirement already satisfied: matplotlib in /home/botev/my_project_dir/my_project_env/lib/python3.12/site-packages (3.10.1)\n",
      "Requirement already satisfied: contourpy>=1.0.1 in /home/botev/my_project_dir/my_project_env/lib/python3.12/site-packages (from matplotlib) (1.3.1)\n",
      "Requirement already satisfied: cycler>=0.10 in /home/botev/my_project_dir/my_project_env/lib/python3.12/site-packages (from matplotlib) (0.12.1)\n",
      "Requirement already satisfied: fonttools>=4.22.0 in /home/botev/my_project_dir/my_project_env/lib/python3.12/site-packages (from matplotlib) (4.56.0)\n",
      "Requirement already satisfied: kiwisolver>=1.3.1 in /home/botev/my_project_dir/my_project_env/lib/python3.12/site-packages (from matplotlib) (1.4.8)\n",
      "Requirement already satisfied: numpy>=1.23 in /home/botev/my_project_dir/my_project_env/lib/python3.12/site-packages (from matplotlib) (2.2.3)\n",
      "Requirement already satisfied: packaging>=20.0 in /home/botev/my_project_dir/my_project_env/lib/python3.12/site-packages (from matplotlib) (24.2)\n",
      "Requirement already satisfied: pillow>=8 in /home/botev/my_project_dir/my_project_env/lib/python3.12/site-packages (from matplotlib) (11.1.0)\n",
      "Requirement already satisfied: pyparsing>=2.3.1 in /home/botev/my_project_dir/my_project_env/lib/python3.12/site-packages (from matplotlib) (3.2.1)\n",
      "Requirement already satisfied: python-dateutil>=2.7 in /home/botev/my_project_dir/my_project_env/lib/python3.12/site-packages (from matplotlib) (2.9.0.post0)\n",
      "Requirement already satisfied: six>=1.5 in /home/botev/my_project_dir/my_project_env/lib/python3.12/site-packages (from python-dateutil>=2.7->matplotlib) (1.17.0)\n",
      "Requirement already satisfied: astropy in /home/botev/my_project_dir/my_project_env/lib/python3.12/site-packages (7.0.1)\n",
      "Requirement already satisfied: numpy>=1.23.2 in /home/botev/my_project_dir/my_project_env/lib/python3.12/site-packages (from astropy) (2.2.3)\n",
      "Requirement already satisfied: pyerfa>=2.0.1.1 in /home/botev/my_project_dir/my_project_env/lib/python3.12/site-packages (from astropy) (2.0.1.5)\n",
      "Requirement already satisfied: astropy-iers-data>=0.2025.1.31.12.41.4 in /home/botev/my_project_dir/my_project_env/lib/python3.12/site-packages (from astropy) (0.2025.3.10.0.29.26)\n",
      "Requirement already satisfied: PyYAML>=6.0.0 in /home/botev/my_project_dir/my_project_env/lib/python3.12/site-packages (from astropy) (6.0.2)\n",
      "Requirement already satisfied: packaging>=22.0.0 in /home/botev/my_project_dir/my_project_env/lib/python3.12/site-packages (from astropy) (24.2)\n"
     ]
    }
   ],
   "source": [
    "!pip install numpy\n",
    "!pip install matplotlib\n",
    "!pip install astropy\n",
    "\n",
    "import numpy as np\n",
    "import matplotlib.pyplot as plt\n",
    "from astropy.io import fits\n",
    "from astropy.table import Table\n",
    "from astropy import units as u\n",
    "plt.ion()\n",
    "import os"
   ]
  },
  {
   "cell_type": "code",
   "execution_count": 8,
   "id": "c6f4bd3a-ee0a-4fd9-9d77-f96d74bdaebb",
   "metadata": {},
   "outputs": [
    {
     "name": "stdout",
     "output_type": "stream",
     "text": [
      "50.0 m\n",
      "[23. 45. 88.] m\n"
     ]
    }
   ],
   "source": [
    "a=50.0*u.meter\n",
    "b=[23, 45, 88]*u.meter\n",
    "print(a)\n",
    "print(b)\n",
    "\n"
   ]
  },
  {
   "cell_type": "code",
   "execution_count": 9,
   "id": "954465d0-ee26-45b6-9ade-1acbec6a3e00",
   "metadata": {},
   "outputs": [
    {
     "data": {
      "text/latex": [
       "$52 \\; \\mathrm{m}$"
      ],
      "text/plain": [
       "<Quantity 52. m>"
      ]
     },
     "execution_count": 9,
     "metadata": {},
     "output_type": "execute_result"
    }
   ],
   "source": [
    "np.mean(b)"
   ]
  },
  {
   "cell_type": "code",
   "execution_count": 10,
   "id": "2a82aa46-172a-4556-bb55-11a1000e6a1c",
   "metadata": {},
   "outputs": [
    {
     "data": {
      "text/latex": [
       "$5 \\; \\mathrm{\\frac{m}{s}}$"
      ],
      "text/plain": [
       "<Quantity 5. m / s>"
      ]
     },
     "execution_count": 10,
     "metadata": {},
     "output_type": "execute_result"
    }
   ],
   "source": [
    "15*u.meter / (3*u.second)"
   ]
  },
  {
   "cell_type": "code",
   "execution_count": 11,
   "id": "c11f7d2f-6d75-4c03-b9a8-9c63bedff983",
   "metadata": {},
   "outputs": [
    {
     "name": "stdout",
     "output_type": "stream",
     "text": [
      "62.0 pc\n"
     ]
    }
   ],
   "source": [
    "x=62*u.parsec\n",
    "print(x)"
   ]
  },
  {
   "cell_type": "code",
   "execution_count": 12,
   "id": "c684f66c-0391-43bf-bf89-85cbe66031f4",
   "metadata": {},
   "outputs": [],
   "source": [
    "y = 45 * u.parsec"
   ]
  },
  {
   "cell_type": "code",
   "execution_count": 13,
   "id": "6155bf69-8aee-4dcd-934e-9140b4602807",
   "metadata": {},
   "outputs": [
    {
     "data": {
      "text/latex": [
       "$1.3777778 \\; \\mathrm{}$"
      ],
      "text/plain": [
       "<Quantity 1.37777778>"
      ]
     },
     "execution_count": 13,
     "metadata": {},
     "output_type": "execute_result"
    }
   ],
   "source": [
    "x/y"
   ]
  },
  {
   "cell_type": "code",
   "execution_count": 14,
   "id": "aeebfc65-d14b-4281-be1f-69a7449995c8",
   "metadata": {},
   "outputs": [],
   "source": [
    "z=x.value"
   ]
  },
  {
   "cell_type": "code",
   "execution_count": 15,
   "id": "6dc6d3d1-8e5f-4d94-bdbe-b0d654b549c6",
   "metadata": {},
   "outputs": [
    {
     "data": {
      "text/plain": [
       "np.float64(62.0)"
      ]
     },
     "execution_count": 15,
     "metadata": {},
     "output_type": "execute_result"
    }
   ],
   "source": [
    "z"
   ]
  },
  {
   "cell_type": "code",
   "execution_count": 16,
   "id": "ebdff23d-d830-496b-86d3-ea88148fa31a",
   "metadata": {},
   "outputs": [],
   "source": [
    "z=x.value/y.value"
   ]
  },
  {
   "cell_type": "code",
   "execution_count": 17,
   "id": "dd8efef8-ac9b-41cd-88f3-4ba2e93d8c51",
   "metadata": {},
   "outputs": [
    {
     "data": {
      "text/plain": [
       "np.float64(1.3777777777777778)"
      ]
     },
     "execution_count": 17,
     "metadata": {},
     "output_type": "execute_result"
    }
   ],
   "source": [
    "z"
   ]
  },
  {
   "cell_type": "code",
   "execution_count": 18,
   "id": "42fb7ce4-c4b3-4b79-a458-0b34a5da4990",
   "metadata": {},
   "outputs": [
    {
     "data": {
      "text/plain": [
       "np.float64(1.38)"
      ]
     },
     "execution_count": 18,
     "metadata": {},
     "output_type": "execute_result"
    }
   ],
   "source": [
    "np.around(z, decimals=2)"
   ]
  },
  {
   "cell_type": "code",
   "execution_count": 23,
   "id": "ec47ce62-1c73-4d42-94ce-0e6f7c776b71",
   "metadata": {},
   "outputs": [
    {
     "data": {
      "text/plain": [
       "astropy.units.quantity.Quantity"
      ]
     },
     "execution_count": 23,
     "metadata": {},
     "output_type": "execute_result"
    }
   ],
   "source": [
    "type(x)\n"
   ]
  },
  {
   "cell_type": "code",
   "execution_count": 20,
   "id": "7f02757c-6a7d-47e1-a235-8d0bcdc62b70",
   "metadata": {},
   "outputs": [],
   "source": [
    "c=(4, 7, 10)*u.second"
   ]
  },
  {
   "cell_type": "code",
   "execution_count": 34,
   "id": "945ec370-2bda-4f82-a385-93d061775c8f",
   "metadata": {},
   "outputs": [
    {
     "data": {
      "text/plain": [
       "<matplotlib.legend.Legend at 0x72896073c5f0>"
      ]
     },
     "execution_count": 34,
     "metadata": {},
     "output_type": "execute_result"
    },
    {
     "data": {
      "image/png": "[encoded data removed]",
      "text/plain": [
       "<Figure size 700x500 with 1 Axes>"
      ]
     },
     "metadata": {},
     "output_type": "display_data"
    }
   ],
   "source": [
    "plt.figure(figsize=(7,5))\n",
    "plt.plot(b, c, ls='', color='k', marker='.', label = 'Wind')\n",
    "plt.xlabel(\"distance [m]\", fontsize=14)\n",
    "plt.ylabel(\"time [s]\", fontsize=14)\n",
    "plt.legend()"
   ]
  },
  {
   "cell_type": "code",
   "execution_count": 28,
   "id": "d61f3ad9-7456-48ae-9b82-fff9d75a9195",
   "metadata": {},
   "outputs": [
    {
     "data": {
      "text/plain": [
       "[<matplotlib.lines.Line2D at 0x72892b0cbaa0>]"
      ]
     },
     "execution_count": 28,
     "metadata": {},
     "output_type": "execute_result"
    },
    {
     "data": {
      "image/png": "[encoded data removed]",
      "text/plain": [
       "<Figure size 640x480 with 1 Axes>"
      ]
     },
     "metadata": {},
     "output_type": "display_data"
    }
   ],
   "source": [
    "l1=np.linspace(0,100,10)\n",
    "l2=np.linspace(0,100,10)\n",
    "plt.plot(l1,l2,color='gray', ls='--')"
   ]
  },
  {
   "cell_type": "code",
   "execution_count": 33,
   "id": "431e1cbb-5451-4f21-b54b-e043d7862318",
   "metadata": {},
   "outputs": [
    {
     "data": {
      "text/plain": [
       "[<matplotlib.lines.Line2D at 0x72896075ce90>]"
      ]
     },
     "execution_count": 33,
     "metadata": {},
     "output_type": "execute_result"
    },
    {
     "data": {
      "image/png": "[encoded data removed]",
      "text/plain": [
       "<Figure size 700x500 with 1 Axes>"
      ]
     },
     "metadata": {},
     "output_type": "display_data"
    }
   ],
   "source": [
    "plt.figure(figsize=(7,5))\n",
    "plt.plot(b, c, ls='', color='k', marker='.', label = 'Wind')\n",
    "plt.xlabel(\"distance [m]\", fontsize=14)\n",
    "plt.ylabel(\"time [s]\", fontsize=14)\n",
    "plt.legend()\n",
    "l1=np.linspace(0,100,10)\n",
    "l2=np.linspace(0,100,10)\n",
    "plt.plot(l1,l2,color='gray', ls='--')\n"
   ]
  },
  {
   "cell_type": "code",
   "execution_count": null,
   "id": "02212b0e-5249-4596-995e-957ac9a81139",
   "metadata": {},
   "outputs": [],
   "source": []
  }
 ],
 "metadata": {
  "kernelspec": {
   "display_name": "Python 3 (ipykernel)",
   "language": "python",
   "name": "python3"
  },
  "language_info": {
   "codemirror_mode": {
    "name": "ipython",
    "version": 3
   },
   "file_extension": ".py",
   "mimetype": "text/x-python",
   "name": "python",
   "nbconvert_exporter": "python",
   "pygments_lexer": "ipython3",
   "version": "3.12.3"
  }
 },
 "nbformat": 4,
 "nbformat_minor": 5
}
